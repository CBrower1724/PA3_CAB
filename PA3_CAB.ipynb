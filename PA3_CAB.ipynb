{
 "cells": [
  {
   "cell_type": "markdown",
   "id": "290beeda-ce45-412c-965c-1487836f36c3",
   "metadata": {},
   "source": [
    "# Programming Assignment 3\n",
    "---\n",
    "**Author:** Carson Brower  \n",
    "**Version:** 1.0  \n",
    "**Semester:** Spring 2024 \n",
    "\n",
    "This *notebook* contains my solution(s) to **Programming Assignment 3**"
   ]
  },
  {
   "cell_type": "markdown",
   "id": "0d38fc03-eab0-4d15-a12b-99989bc1c291",
   "metadata": {},
   "source": [
    "### Problem 1 - Geometry Calculator"
   ]
  },
  {
   "cell_type": "code",
   "execution_count": 15,
   "id": "f7fbe21a-b991-44c5-838e-0ea6aca82fd8",
   "metadata": {
    "tags": []
   },
   "outputs": [
    {
     "name": "stdout",
     "output_type": "stream",
     "text": [
      "Choose a shape: \n",
      "S\n",
      "TRI\n",
      "C\n",
      "R\n",
      "E\n",
      "TRAP\n",
      "Q\n"
     ]
    },
    {
     "name": "stdin",
     "output_type": "stream",
     "text": [
      "Enter your choice:  Q\n"
     ]
    },
    {
     "name": "stdout",
     "output_type": "stream",
     "text": [
      "Done!\n"
     ]
    }
   ],
   "source": [
    "import math\n",
    "def square_calculator(side_length):\n",
    "    area = side_length ** 2\n",
    "    perimeter = 4 * side_length\n",
    "    return area, perimeter\n",
    "def triangle_calculator(base, height, hypotenuse):\n",
    "    area = 0.5 * base * height\n",
    "    perimeter = base + height + hypotenuse\n",
    "    return area, perimeter\n",
    "def circle_calculator(radius):\n",
    "    area = math.pi * (radius ** 2)\n",
    "    perimeter = 2 * math.pi * radius\n",
    "    return area, perimeter\n",
    "def rectangle_calculator(length, width):\n",
    "    area = length * width\n",
    "    perimeter = 2 * (length + width)\n",
    "    return area, perimeter\n",
    "def ellipse_calculator(semi_major_axis, semi_minor_axis):\n",
    "    area = math.pi * semi_major_axis * semi_minor_axis\n",
    "    perimeter = 2 * math.pi * math.sqrt((semi_major_axis ** 2 + semi_minor_axis ** 2) / 2)\n",
    "    return area, perimeter\n",
    "def trapezoid_calculator(base1, base2, height, side1, side2):\n",
    "    area = 0.5 * (base1 + base2) * height\n",
    "    perimeter = base1 + base2 + side1 + side2\n",
    "    return area, perimeter\n",
    "while True:\n",
    "    print(\"Choose a shape: \")\n",
    "    print(\"S\")\n",
    "    print(\"TRI\")\n",
    "    print(\"C\")\n",
    "    print(\"R\")\n",
    "    print(\"E\")\n",
    "    print(\"TRAP\")\n",
    "    print(\"Q\")\n",
    "    choice = input(\"Enter your choice: \").upper()\n",
    "    if choice == \"Q\":\n",
    "        print(\"Done!\")\n",
    "        break\n",
    "    elif choice == \"S\":\n",
    "        side_length = float(input(\"Enter the length of the side: \"))\n",
    "        area, perimeter = square_calculator(side_length)\n",
    "    elif choice == \"TRI\":\n",
    "        base = float(input(\"Enter the length of the base: \"))\n",
    "        height = float(input(\"Enter the height: \"))\n",
    "        hypotenuse = float(input(\"Enter the length of the hypotenuse: \"))\n",
    "        area, perimeter = triangle_calculator(base, height, hypotenuse)\n",
    "    elif choice == \"C\":\n",
    "        radius = float(input(\"Enter the radius of the circle: \"))\n",
    "        area, perimeter = circle_calculator(radius)\n",
    "    elif choice == \"R\":\n",
    "        length = float(input(\"Enter the length of the rectangle: \"))\n",
    "        width = float(input(\"Enter the width of the rectangle: \"))\n",
    "        area, perimeter = rectangle_calculator(length, width)\n",
    "    elif choice == \"E\":\n",
    "        semi_major_axis = float(input(\"Enter the semi-major axis length: \"))\n",
    "        semi_minor_axis = float(input(\"Enter the semi-minor axis length: \"))\n",
    "        area, perimeter = ellipse_calculator(semi_major_axis, semi_minor_axis)\n",
    "    elif choice == \"TRAP\":\n",
    "        base1 = float(input(\"Enter the length of the first base: \"))\n",
    "        base2 = float(input(\"Enter the length of the second base: \"))\n",
    "        height = float(input(\"Enter the height: \"))\n",
    "        side1 = float(input(\"Enter the length of the first side: \"))\n",
    "        side2 = float(input(\"Enter the length of the second side: \"))\n",
    "        area, perimeter = trapezoid_calculator(base1, base2, height, side1, side2)\n",
    "    else:\n",
    "        print(\"That is not a valid option\")\n",
    "        continue\n",
    "    print(\"Area:\", area)\n",
    "    print(\"Perimeter:\", perimeter)"
   ]
  },
  {
   "cell_type": "markdown",
   "id": "36c185a2-3b18-4690-bd8e-fc7565f82de9",
   "metadata": {},
   "source": [
    "### Problem 2 - Horse Computations"
   ]
  },
  {
   "cell_type": "code",
   "execution_count": 16,
   "id": "eb29e93c-8cbd-431e-a451-8a9d90d62c2e",
   "metadata": {
    "tags": []
   },
   "outputs": [
    {
     "name": "stdout",
     "output_type": "stream",
     "text": [
      "Choose a unit to convert:\n",
      "H\n",
      "L\n",
      "Q\n"
     ]
    },
    {
     "name": "stdin",
     "output_type": "stream",
     "text": [
      "Enter your choice:  F\n"
     ]
    },
    {
     "name": "stdout",
     "output_type": "stream",
     "text": [
      "That is not a valid option\n",
      "Choose a unit to convert:\n",
      "H\n",
      "L\n",
      "Q\n"
     ]
    },
    {
     "name": "stdin",
     "output_type": "stream",
     "text": [
      "Enter your choice:  Q\n"
     ]
    },
    {
     "name": "stdout",
     "output_type": "stream",
     "text": [
      "Done!\n"
     ]
    }
   ],
   "source": [
    "def convert_hands(hands):\n",
    "    feet = hands * 4 / 12\n",
    "    return feet\n",
    "def convert_length(length):\n",
    "    feet = length * 8\n",
    "    return feet\n",
    "while True:\n",
    "    print(\"Choose a unit to convert:\")\n",
    "    print(\"H\")\n",
    "    print(\"L\")\n",
    "    print(\"Q\")\n",
    "    choice = input(\"Enter your choice: \").upper()\n",
    "    if choice == \"Q\":\n",
    "        print(\"Done!\")\n",
    "        break\n",
    "    elif choice == \"H\":\n",
    "        hands = float(input(\"Enter the number of hands: \"))\n",
    "        feet = convert_hands(hands)\n",
    "        print(f\"{hands} hands is equal to {feet} feet.\")\n",
    "    elif choice == \"L\":\n",
    "        length = float(input(\"Enter the number of length: \"))\n",
    "        feet = convert_length(length)\n",
    "        print(f\"{length} length is equal to {feet} feet.\")\n",
    "    else:\n",
    "        print(\"That is not a valid option\")"
   ]
  },
  {
   "cell_type": "markdown",
   "id": "25571bd0-8ff4-4ab6-9223-b659c51ef1c0",
   "metadata": {},
   "source": [
    "### Problem 3 - Mean Temperature"
   ]
  },
  {
   "cell_type": "code",
   "execution_count": 30,
   "id": "6a48ecca-28dc-4dbf-a380-f85cc21ab026",
   "metadata": {
    "tags": []
   },
   "outputs": [
    {
     "name": "stdin",
     "output_type": "stream",
     "text": [
      "Enter a temperature in Fahrenheit (or type 'done' to calculate):  46\n",
      "Enter a temperature in Fahrenheit (or type 'done' to calculate):  44\n",
      "Enter a temperature in Fahrenheit (or type 'done' to calculate):  42\n",
      "Enter a temperature in Fahrenheit (or type 'done' to calculate):  done\n"
     ]
    },
    {
     "name": "stdout",
     "output_type": "stream",
     "text": [
      "The mean temperature for the past 3 days is 44.00 degrees F.\n"
     ]
    }
   ],
   "source": [
    "def meanTemp(temperatures):\n",
    "    number_of_days = len(temperatures)\n",
    "    mean_temperature = sum(temperatures) / number_of_days\n",
    "    return number_of_days, mean_temperature\n",
    "temps = []\n",
    "while True:\n",
    "    temp = input(\"Enter a temperature in Fahrenheit (or type 'done' to calculate): \")\n",
    "    if temp.lower() == 'done':\n",
    "        break\n",
    "    temps.append(float(temp))\n",
    "num_days, mean_temperature = meanTemp(temps)\n",
    "print(f\"The mean temperature for the past {num_days} days is {mean_temperature:.2f} degrees F.\")"
   ]
  },
  {
   "cell_type": "code",
   "execution_count": null,
   "id": "e87cd864-da9b-4f90-80d3-b09e595cb30b",
   "metadata": {},
   "outputs": [],
   "source": []
  }
 ],
 "metadata": {
  "kernelspec": {
   "display_name": "Python 3 (ipykernel)",
   "language": "python",
   "name": "python3"
  },
  "language_info": {
   "codemirror_mode": {
    "name": "ipython",
    "version": 3
   },
   "file_extension": ".py",
   "mimetype": "text/x-python",
   "name": "python",
   "nbconvert_exporter": "python",
   "pygments_lexer": "ipython3",
   "version": "3.11.5"
  }
 },
 "nbformat": 4,
 "nbformat_minor": 5
}
